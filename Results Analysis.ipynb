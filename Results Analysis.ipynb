{
 "cells": [
  {
   "cell_type": "code",
   "execution_count": 89,
   "id": "ac47928a",
   "metadata": {},
   "outputs": [],
   "source": [
    "import json\n",
    "from tqdm.auto import tqdm\n",
    "import numpy as np\n",
    "from derivation_metric import optimize_score, score\n",
    "import matplotlib.pyplot as plt\n",
    "from evaluate import load"
   ]
  },
  {
   "cell_type": "code",
   "execution_count": 45,
   "id": "a677deba",
   "metadata": {},
   "outputs": [],
   "source": [
    "# load data\n",
    "\n",
    "with open(\"updated_results.json\", \"r\") as f:\n",
    "    data = json.load(f)"
   ]
  },
  {
   "cell_type": "code",
   "execution_count": 59,
   "id": "77e15411",
   "metadata": {},
   "outputs": [],
   "source": [
    "def average_scores(data, model_name, perturbation, metric_name):\n",
    "    scores = []\n",
    "    for example in data:\n",
    "        score = example[\"%s-%s_%s\"%(model_name, perturbation, metric_name)]\n",
    "        scores.append(score)\n",
    "    return np.mean(scores)"
   ]
  },
  {
   "cell_type": "code",
   "execution_count": 60,
   "id": "f7985c7d",
   "metadata": {},
   "outputs": [],
   "source": [
    "# EM_data = [i for i in data if i['field'] == \"Electromagnetism\"]\n",
    "# QM_data = [i for i in data if i['field'] == \"Quantum Mechanics\"]\n",
    "# Other_data = [i for i in data if i['field'] == \"Other\"]\n",
    "# len(EM_data), len(QM_data), len(Other_data)"
   ]
  },
  {
   "cell_type": "code",
   "execution_count": 61,
   "id": "00659b2b",
   "metadata": {},
   "outputs": [],
   "source": [
    "metrics = [\"rouge\",\"bleu\",\"gleu\"]"
   ]
  },
  {
   "cell_type": "markdown",
   "id": "f2f02798",
   "metadata": {},
   "source": [
    "**Fields results**"
   ]
  },
  {
   "cell_type": "code",
   "execution_count": 62,
   "id": "1158562e",
   "metadata": {},
   "outputs": [
    {
     "name": "stdout",
     "output_type": "stream",
     "text": [
      "86.41222189889277\n",
      "80.95240851787645\n",
      "81.78585847261166\n"
     ]
    }
   ],
   "source": [
    "model_name = \"gpt-4\"\n",
    "\n",
    "for metric in metrics:\n",
    "    print(average_scores(EM_data,model_name,\"static\",metric))"
   ]
  },
  {
   "cell_type": "code",
   "execution_count": 63,
   "id": "9d7366e4",
   "metadata": {},
   "outputs": [
    {
     "name": "stdout",
     "output_type": "stream",
     "text": [
      "83.63258584992246\n",
      "77.76054829426766\n",
      "78.91921035535314\n"
     ]
    }
   ],
   "source": [
    "for metric in metrics:\n",
    "    print(average_scores(QM_data,model_name,\"static\",metric))"
   ]
  },
  {
   "cell_type": "code",
   "execution_count": 64,
   "id": "09abe933",
   "metadata": {},
   "outputs": [
    {
     "name": "stdout",
     "output_type": "stream",
     "text": [
      "81.00740287528892\n",
      "70.87514064542664\n",
      "73.02562126759966\n"
     ]
    }
   ],
   "source": [
    "for metric in metrics:\n",
    "    print(average_scores(Other_data,model_name,\"static\",metric))"
   ]
  },
  {
   "cell_type": "markdown",
   "id": "76d2e11a",
   "metadata": {},
   "source": [
    "**Premises**"
   ]
  },
  {
   "cell_type": "code",
   "execution_count": 65,
   "id": "bb94fe8a",
   "metadata": {},
   "outputs": [],
   "source": [
    "premise_data = [i for i in data if (\"PR1\" in str(i.keys())) and (\"PR2\" in str(i.keys()))]"
   ]
  },
  {
   "cell_type": "code",
   "execution_count": 67,
   "id": "17a8fc77",
   "metadata": {},
   "outputs": [
    {
     "name": "stdout",
     "output_type": "stream",
     "text": [
      "rouge\n",
      "85.6\n",
      "81.0\n",
      "70.5\n",
      "\n",
      "\n",
      "bleu\n",
      "79.7\n",
      "73.8\n",
      "58.9\n",
      "\n",
      "\n",
      "gleu\n",
      "80.6\n",
      "75.7\n",
      "63.5\n",
      "\n",
      "\n"
     ]
    }
   ],
   "source": [
    "model_name = \"gpt-4\"\n",
    "\n",
    "for metric in metrics:\n",
    "    print(metric)\n",
    "    for perturbation in [\"static\",\"PR1\",\"PR2\"]:\n",
    "        print(np.round(average_scores(premise_data,model_name,perturbation,metric), 1))\n",
    "    print('\\n')"
   ]
  },
  {
   "cell_type": "markdown",
   "id": "9e927a10",
   "metadata": {},
   "source": [
    "**Specific metric comparison**\n",
    "\n",
    "Here is where "
   ]
  },
  {
   "cell_type": "code",
   "execution_count": 85,
   "id": "b31d86a0",
   "metadata": {},
   "outputs": [],
   "source": [
    "metric_name = \"rouge\"\n",
    "i = 0\n",
    "\n",
    "example = data[i]\n",
    "ref = example['derivation']\n",
    "pred = example['MathT5-base-static']"
   ]
  },
  {
   "cell_type": "code",
   "execution_count": 93,
   "id": "6539e4bb",
   "metadata": {},
   "outputs": [
    {
     "data": {
      "text/plain": [
       "(0.8,\n",
       " (['\\\\oiint_S \\\\mathbf{E}\\\\cdot d\\\\mathbf{A} = \\\\frac{Q}{\\\\varepsilon_0} ',\n",
       "   ' \\\\oiint_S \\\\mathbf{E}\\\\cdot d\\\\mathbf{A} = \\\\iiint_V \\\\nabla \\\\cdot \\\\mathbf{E} dV ',\n",
       "   ' \\\\iiint_V \\\\nabla \\\\cdot \\\\mathbf{E} dV = \\\\frac{Q}{\\\\varepsilon_0} ',\n",
       "   ' Q = \\\\iiint_V \\\\rho dV ',\n",
       "   ' \\\\iiint_V \\\\nabla \\\\cdot \\\\mathbf{E} dV = \\\\iiint_V \\\\frac{\\\\rho}{\\\\varepsilon_0} dV'],\n",
       "  ['\\\\oiint_S \\\\mathbf { E } \\\\cdot d \\\\mathbf { A } = \\\\frac { Q } { \\\\varepsilon_0 } ',\n",
       "   ' \\\\oiint_S \\\\mathbf { E } \\\\cdot d \\\\mathbf { A } = \\\\iiint_V \\\\nabla \\\\cdot \\\\mathbf { E } dV ',\n",
       "   '',\n",
       "   ' Q = \\\\iiint_V \\\\rho dV ',\n",
       "   ' \\\\iiint_V \\\\nabla \\\\cdot \\\\mathbf { E } dV = \\\\iiint_V \\\\frac { \\\\rho } { \\\\varepsilon_0 } dV']))"
      ]
     },
     "execution_count": 93,
     "metadata": {},
     "output_type": "execute_result"
    }
   ],
   "source": [
    "# new metric\n",
    "optimize_score(ref, pred, metric_name, return_equations=True)"
   ]
  },
  {
   "cell_type": "code",
   "execution_count": 95,
   "id": "5d72c60f",
   "metadata": {},
   "outputs": [
    {
     "name": "stdout",
     "output_type": "stream",
     "text": [
      "Unexpected exception formatting exception. Falling back to standard exception\n"
     ]
    },
    {
     "name": "stderr",
     "output_type": "stream",
     "text": [
      "Traceback (most recent call last):\n",
      "  File \"C:\\Users\\JCMea\\AppData\\Local\\Programs\\Python\\Python310\\lib\\site-packages\\IPython\\core\\interactiveshell.py\", line 3508, in run_code\n",
      "    exec(code_obj, self.user_global_ns, self.user_ns)\n",
      "  File \"C:\\Users\\JCMea\\AppData\\Local\\Temp\\ipykernel_27160\\1537449276.py\", line 2, in <module>\n",
      "    score(ref, pred, metric_name, load(metric_name))\n",
      "  File \"D:\\PhD_on_D\\Projects\\Wikipedia_Derivations\\Project 6\\derivation_metric.py\", line 32, in score\n",
      "ValueError: too many values to unpack (expected 2)\n",
      "\n",
      "During handling of the above exception, another exception occurred:\n",
      "\n",
      "Traceback (most recent call last):\n",
      "  File \"C:\\Users\\JCMea\\AppData\\Local\\Programs\\Python\\Python310\\lib\\site-packages\\IPython\\core\\interactiveshell.py\", line 2105, in showtraceback\n",
      "    stb = self.InteractiveTB.structured_traceback(\n",
      "  File \"C:\\Users\\JCMea\\AppData\\Local\\Programs\\Python\\Python310\\lib\\site-packages\\IPython\\core\\ultratb.py\", line 1428, in structured_traceback\n",
      "    return FormattedTB.structured_traceback(\n",
      "  File \"C:\\Users\\JCMea\\AppData\\Local\\Programs\\Python\\Python310\\lib\\site-packages\\IPython\\core\\ultratb.py\", line 1319, in structured_traceback\n",
      "    return VerboseTB.structured_traceback(\n",
      "  File \"C:\\Users\\JCMea\\AppData\\Local\\Programs\\Python\\Python310\\lib\\site-packages\\IPython\\core\\ultratb.py\", line 1172, in structured_traceback\n",
      "    formatted_exception = self.format_exception_as_a_whole(etype, evalue, etb, number_of_lines_of_context,\n",
      "  File \"C:\\Users\\JCMea\\AppData\\Local\\Programs\\Python\\Python310\\lib\\site-packages\\IPython\\core\\ultratb.py\", line 1087, in format_exception_as_a_whole\n",
      "    frames.append(self.format_record(record))\n",
      "  File \"C:\\Users\\JCMea\\AppData\\Local\\Programs\\Python\\Python310\\lib\\site-packages\\IPython\\core\\ultratb.py\", line 969, in format_record\n",
      "    frame_info.lines, Colors, self.has_colors, lvals\n",
      "  File \"C:\\Users\\JCMea\\AppData\\Local\\Programs\\Python\\Python310\\lib\\site-packages\\IPython\\core\\ultratb.py\", line 792, in lines\n",
      "    return self._sd.lines\n",
      "  File \"C:\\Users\\JCMea\\AppData\\Local\\Programs\\Python\\Python310\\lib\\site-packages\\stack_data\\utils.py\", line 144, in cached_property_wrapper\n",
      "    value = obj.__dict__[self.func.__name__] = self.func(obj)\n",
      "  File \"C:\\Users\\JCMea\\AppData\\Local\\Programs\\Python\\Python310\\lib\\site-packages\\stack_data\\core.py\", line 734, in lines\n",
      "    pieces = self.included_pieces\n",
      "  File \"C:\\Users\\JCMea\\AppData\\Local\\Programs\\Python\\Python310\\lib\\site-packages\\stack_data\\utils.py\", line 144, in cached_property_wrapper\n",
      "    value = obj.__dict__[self.func.__name__] = self.func(obj)\n",
      "  File \"C:\\Users\\JCMea\\AppData\\Local\\Programs\\Python\\Python310\\lib\\site-packages\\stack_data\\core.py\", line 681, in included_pieces\n",
      "    pos = scope_pieces.index(self.executing_piece)\n",
      "  File \"C:\\Users\\JCMea\\AppData\\Local\\Programs\\Python\\Python310\\lib\\site-packages\\stack_data\\utils.py\", line 144, in cached_property_wrapper\n",
      "    value = obj.__dict__[self.func.__name__] = self.func(obj)\n",
      "  File \"C:\\Users\\JCMea\\AppData\\Local\\Programs\\Python\\Python310\\lib\\site-packages\\stack_data\\core.py\", line 660, in executing_piece\n",
      "    return only(\n",
      "  File \"C:\\Users\\JCMea\\AppData\\Local\\Programs\\Python\\Python310\\lib\\site-packages\\executing\\executing.py\", line 190, in only\n",
      "    raise NotOneValueFound('Expected one value, found 0')\n",
      "executing.executing.NotOneValueFound: Expected one value, found 0\n"
     ]
    }
   ],
   "source": [
    "# old metric\n",
    "# standard rouge etc "
   ]
  },
  {
   "cell_type": "code",
   "execution_count": null,
   "id": "fa1d8adf",
   "metadata": {},
   "outputs": [],
   "source": []
  }
 ],
 "metadata": {
  "kernelspec": {
   "display_name": "Python 3 (ipykernel)",
   "language": "python",
   "name": "python3"
  },
  "language_info": {
   "codemirror_mode": {
    "name": "ipython",
    "version": 3
   },
   "file_extension": ".py",
   "mimetype": "text/x-python",
   "name": "python",
   "nbconvert_exporter": "python",
   "pygments_lexer": "ipython3",
   "version": "3.10.10"
  }
 },
 "nbformat": 4,
 "nbformat_minor": 5
}
